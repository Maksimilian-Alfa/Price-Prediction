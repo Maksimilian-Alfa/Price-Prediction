{
 "cells": [
  {
   "cell_type": "markdown",
   "metadata": {},
   "source": [
    "## Курсовой проект - предсказание цен на недвижимость"
   ]
  },
  {
   "cell_type": "markdown",
   "metadata": {},
   "source": [
    "#### Импортируем библиотеки"
   ]
  },
  {
   "cell_type": "code",
   "execution_count": 5,
   "metadata": {},
   "outputs": [],
   "source": [
    "import pandas as pd\n",
    "import numpy as np\n",
    "import datetime as dt\n",
    "\n",
    "from sklearn.model_selection import KFold, cross_val_score\n",
    "from lightgbm import LGBMRegressor\n",
    "\n",
    "import matplotlib.pyplot as plt"
   ]
  },
  {
   "cell_type": "markdown",
   "metadata": {},
   "source": [
    "#### Формируем все необходимые переменные и Dataframes"
   ]
  },
  {
   "cell_type": "code",
   "execution_count": 6,
   "metadata": {},
   "outputs": [],
   "source": [
    "DATASET_PATH = r'C:\\Users\\Black\\Desktop\\курсовой проект\\train.csv'\n",
    "TEST_DATASET_PATH = r'C:\\Users\\Black\\Desktop\\курсовой проект\\test.csv'\n",
    "\n",
    "main_dataframe = pd.read_csv(DATASET_PATH)\n",
    "final_dataframe = pd.read_csv(TEST_DATASET_PATH)\n",
    "\n",
    "main_dataframe.set_index('Id', inplace=True)\n",
    "main_dataframe_price = main_dataframe[['Price']]\n",
    "main_dataframe.drop('Price', axis='columns', inplace=True)\n",
    "\n",
    "main_dataframe['DistrictId'] = main_dataframe['DistrictId'].astype(str)\n",
    "final_dataframe['DistrictId'] = final_dataframe['DistrictId'].astype(str)\n",
    "\n",
    "preds_final = pd.DataFrame()\n",
    "preds_final['Id'] = final_dataframe['Id'].copy()"
   ]
  },
  {
   "cell_type": "markdown",
   "metadata": {},
   "source": [
    "#### Класс для очистки данных"
   ]
  },
  {
   "cell_type": "code",
   "execution_count": 7,
   "metadata": {},
   "outputs": [],
   "source": [
    "class Cleaning(object):\n",
    "\n",
    "    def __init__(self):\n",
    "        self.medians = None\n",
    "        self.DistrictHouseYearMedian = {}\n",
    "        self.DistrictRoomSquareMedian = {}\n",
    "        self.DistrictKitchenSquareMedian = {}\n",
    "        self.year = dt.datetime.now().year\n",
    "\n",
    "    def __district_medians(self, df):\n",
    "        # Расчет медианы возраста домов в разрезе каждого района\n",
    "        dist_list = df['DistrictId'].unique()\n",
    "        for i in dist_list:\n",
    "            self.DistrictHouseYearMedian[i] = df.loc[df['DistrictId'] == i, 'HouseYear'].median()\n",
    "\n",
    "        # Расчет медианы площади комнат в разрезе каждого района\n",
    "        for i in dist_list:\n",
    "            self.DistrictRoomSquareMedian[i] = df.loc[df['DistrictId'] == i, 'Square'].median() / df.loc[\n",
    "                df['DistrictId'] == i, 'Rooms'].median()\n",
    "\n",
    "    def fit(self, df):\n",
    "        self.medians = df.median()\n",
    "        self.__district_medians(df)  # Заполняем словари DistrictHouseYearMedian и DistrictRoomSquareMedian\n",
    "\n",
    "    def refactor_func(self, df):\n",
    "        # Обработка поля HouseYear\n",
    "        for key, value in self.DistrictHouseYearMedian.items():\n",
    "            df.loc[(df['HouseYear'] > self.year) & (df['DistrictId'] == key), 'HouseYear'] = value\n",
    "\n",
    "        #  Обработка поля Rooms\n",
    "        for key, value in self.DistrictRoomSquareMedian.items():\n",
    "            df.loc[(df['Rooms'] == 0) & (df['DistrictId'] == key), 'Rooms'] = round(\n",
    "                df.loc[(df['Rooms'] == 0) & (df['DistrictId'] == key), 'Square'] / value\n",
    "            )\n",
    "\n",
    "        #  Обработка поля KitchenSquare\n",
    "        df.loc[df['KitchenSquare'] < 3, 'KitchenSquare'] = 3\n",
    "        df.loc[df['KitchenSquare'] > 30, 'KitchenSquare'] = self.medians['KitchenSquare']\n",
    "\n",
    "        # Обработка полей HouseFloor и Floor\n",
    "        df['HouseFloor_outlier'] = 0\n",
    "        df.loc[df['HouseFloor'] == 0, 'HouseFloor_outlier'] = 1\n",
    "        df.loc[df['Floor'] > df['HouseFloor'], 'HouseFloor_outlier'] = 1\n",
    "        df.loc[df['HouseFloor'] == 0, 'HouseFloor'] = self.medians['HouseFloor']\n",
    "        df.loc[df['Floor'] > df['HouseFloor'], 'Floor'] = df.loc[df['Floor'] > df['HouseFloor'], 'HouseFloor']\n",
    "\n",
    "        #  Обработка поля Healthcare\n",
    "        df.drop('Healthcare_1', axis='columns', inplace=True)\n",
    "\n",
    "        # LifeSquare\n",
    "        df['LifeSquare_nan'] = df['LifeSquare'].isna() * 1\n",
    "\n",
    "        condition = (df['LifeSquare'].isna()) & (df['Square'].notna()) & (df['KitchenSquare'].notna())\n",
    "        df.loc[condition, 'LifeSquare'] = df.loc[condition, 'Square'] - df.loc[condition, 'KitchenSquare']\n",
    "\n",
    "        return df\n"
   ]
  },
  {
   "cell_type": "markdown",
   "metadata": {},
   "source": [
    "#### Класс для формирования фичей"
   ]
  },
  {
   "cell_type": "code",
   "execution_count": 8,
   "metadata": {},
   "outputs": [],
   "source": [
    "class FeatureGenerator(object):\n",
    "    def __init__(self):\n",
    "        self.binary_to_numbers = None\n",
    "        self.DistrictRoomsPriceMedian = None\n",
    "        self.FloorYearPriceMedian = None\n",
    "        self.DistrictId_counts = None\n",
    "        self.med_price_by_floor_year = None\n",
    "        self.DistrictMedianCost = {}\n",
    "        self.FloorCatMedPrice = {}\n",
    "\n",
    "    def fit(self, df, price_info=None):\n",
    "        self.binary_to_numbers = {'A': 0, 'B': 1}\n",
    "        # DistrictID\n",
    "        x_df = df.copy()\n",
    "        district = x_df['DistrictId'].value_counts()\n",
    "        district = district[district > 50]\n",
    "\n",
    "        self.DistrictId_counts = dict(district)\n",
    "\n",
    "        if price_info is not None:\n",
    "            x_df['Price'] = price_info\n",
    "            x_df['DistrictId_popular'] = x_df['DistrictId'].copy()\n",
    "            x_df.loc[~x_df['DistrictId_popular'].isin(list(district.keys()))] = np.nan\n",
    "            self.DistrictRoomsPriceMedian = x_df.groupby(['DistrictId_popular', 'Rooms'], as_index=False).agg({\n",
    "                'Price': 'median'\n",
    "            }).rename(columns={'Price': 'DistrictPriceMedian', 'DistrictId_popular': 'DistrictId'})\n",
    "\n",
    "        if price_info is not None:\n",
    "            x_df['Price'] = price_info\n",
    "            x_df = self.floor_to_cat(x_df)\n",
    "            x_df = self.year_to_cat(x_df)\n",
    "            self.med_price_by_floor_year = x_df.groupby(['year_cat', 'floor_cat'], as_index=False).agg({\n",
    "                'Price': 'median'\n",
    "            }).rename(columns={'Price': 'MedPriceByFloorYear'})\n",
    "\n",
    "        if price_info is not None:\n",
    "            x_df['Price'] = price_info\n",
    "            x_df['med_cost'] = x_df['Price'] / x_df['Square']\n",
    "            dist_list = x_df['DistrictId'].unique()\n",
    "            for i in dist_list:\n",
    "                self.DistrictMedianCost[i] = x_df.loc[x_df['DistrictId'] == i, 'med_cost'].median()\n",
    "\n",
    "    def transform(self, df):\n",
    "        # Создаем фичи категориальные по полям Floor и HouseYear\n",
    "        df = self.floor_to_cat(df)\n",
    "        df = self.year_to_cat(df)\n",
    "\n",
    "        # DistrictId\n",
    "        df['DistrictId_count'] = df['DistrictId'].map(self.DistrictId_counts)\n",
    "        df['DistrictMedianMetrCost'] = df['DistrictId'].map(self.DistrictMedianCost)\n",
    "        # df['Floor_Cat_MedianCost'] = df['floor_cat'].map(self.FloorCatMedPrice)\n",
    "        df['new_district'] = 0\n",
    "        df.loc[df['DistrictId_count'].isna(), 'new_district'] = 1\n",
    "        df['DistrictId_count'].fillna(5, inplace=True)\n",
    "\n",
    "        df['effective_area'] = (df['LifeSquare'] + df['KitchenSquare']) / df['Square']\n",
    "\n",
    "        # Бинарные фичи, меняем согласно словарю binary_to_numbers\n",
    "        df['Ecology_2'] = df['Ecology_2'].map(self.binary_to_numbers)\n",
    "        df['Ecology_3'] = df['Ecology_3'].map(self.binary_to_numbers)\n",
    "        df['Shops_2'] = df['Shops_2'].map(self.binary_to_numbers)\n",
    "\n",
    "        # Target encoding\n",
    "        if self.DistrictRoomsPriceMedian is not None:\n",
    "            df = df.merge(self.DistrictRoomsPriceMedian, on=['DistrictId', 'Rooms'], how='left')\n",
    "        if self.med_price_by_floor_year is not None:\n",
    "            df = df.merge(self.med_price_by_floor_year, on=['year_cat', 'floor_cat'], how='left')\n",
    "\n",
    "        return df\n",
    "\n",
    "    @staticmethod\n",
    "    def floor_to_cat(df):\n",
    "\n",
    "        df['floor_cat'] = np.nan\n",
    "\n",
    "        df.loc[df['Floor'] < 3, 'floor_cat'] = 1\n",
    "        df.loc[(df['Floor'] >= 3) & (df['Floor'] <= 5), 'floor_cat'] = 2\n",
    "        df.loc[(df['Floor'] > 5) & (df['Floor'] <= 9), 'floor_cat'] = 3\n",
    "        df.loc[(df['Floor'] > 9) & (df['Floor'] <= 15), 'floor_cat'] = 4\n",
    "        df.loc[df['Floor'] > 15, 'floor_cat'] = 5\n",
    "\n",
    "        return df\n",
    "\n",
    "    @staticmethod\n",
    "    def year_to_cat(df):\n",
    "\n",
    "        df['year_cat'] = np.nan\n",
    "\n",
    "        df.loc[df['HouseYear'] < 1941, 'year_cat'] = 1\n",
    "        df.loc[(df['HouseYear'] >= 1941) & (df['HouseYear'] <= 1945), 'year_cat'] = 2\n",
    "        df.loc[(df['HouseYear'] > 1945) & (df['HouseYear'] <= 1980), 'year_cat'] = 3\n",
    "        df.loc[(df['HouseYear'] > 1980) & (df['HouseYear'] <= 2000), 'year_cat'] = 4\n",
    "        df.loc[(df['HouseYear'] > 2000) & (df['HouseYear'] <= 2010), 'year_cat'] = 5\n",
    "        df.loc[(df['HouseYear'] > 2010), 'year_cat'] = 6\n",
    "\n",
    "        return df"
   ]
  },
  {
   "cell_type": "markdown",
   "metadata": {},
   "source": [
    "#### Обработка/трансформация данных"
   ]
  },
  {
   "cell_type": "code",
   "execution_count": 9,
   "metadata": {},
   "outputs": [],
   "source": [
    "# Часть 1\n",
    "x = Cleaning()\n",
    "x.fit(df=main_dataframe)\n",
    "main_dataframe = x.refactor_func(main_dataframe)\n",
    "final_dataframe = x.refactor_func(final_dataframe)\n",
    "\n",
    "\n",
    "# Часть 2\n",
    "features = FeatureGenerator()\n",
    "features.fit(main_dataframe, main_dataframe_price)\n",
    "\n",
    "main_dataframe = features.transform(main_dataframe)\n",
    "final_dataframe = features.transform(final_dataframe)"
   ]
  },
  {
   "cell_type": "markdown",
   "metadata": {},
   "source": [
    "#### Выбор используемых фичей"
   ]
  },
  {
   "cell_type": "code",
   "execution_count": 10,
   "metadata": {},
   "outputs": [],
   "source": [
    "remain_features = ['Rooms', 'Square', 'LifeSquare', 'KitchenSquare', 'Floor', 'Ecology_1', 'Social_1', 'Social_2',\n",
    "                   'Social_3', 'Shops_1', 'HouseFloor_outlier', 'LifeSquare_nan', 'HouseFloor', 'HouseYear',\n",
    "                   'DistrictId_count', 'new_district', 'Ecology_2', 'Ecology_3', 'Shops_2', 'DistrictPriceMedian',\n",
    "                   'MedPriceByFloorYear', 'Helthcare_2', 'DistrictMedianMetrCost']\n",
    "\n",
    "\n",
    "main_dataframe = main_dataframe[remain_features]\n",
    "final_dataframe = final_dataframe[remain_features]"
   ]
  },
  {
   "cell_type": "markdown",
   "metadata": {},
   "source": [
    "#### Создание и обучение модели"
   ]
  },
  {
   "cell_type": "code",
   "execution_count": 11,
   "metadata": {},
   "outputs": [
    {
     "name": "stdout",
     "output_type": "stream",
     "text": [
      "R2: 0.751 +- 0.018\n"
     ]
    },
    {
     "data": {
      "text/plain": [
       "LGBMRegressor(max_bin=295, max_depth=8, n_estimators=350, num_leaves=11,\n",
       "              random_state=42)"
      ]
     },
     "execution_count": 11,
     "metadata": {},
     "output_type": "execute_result"
    }
   ],
   "source": [
    "model = LGBMRegressor(max_depth=8, n_estimators=350, random_state=42, num_leaves=11, max_bin=295)\n",
    "cv_score = cross_val_score(model, main_dataframe, main_dataframe_price.values.ravel(),\n",
    "                           scoring='r2',\n",
    "                           cv=KFold(n_splits=5, shuffle=True, random_state=42))\n",
    "\n",
    "# cv_score\n",
    "mean = cv_score.mean()\n",
    "std = cv_score.std()\n",
    "\n",
    "print('R2: {:.3f} +- {:.3f}'.format(mean, std))\n",
    "\n",
    "# Обучаю модель\n",
    "model.fit(main_dataframe, main_dataframe_price)\n"
   ]
  },
  {
   "cell_type": "markdown",
   "metadata": {},
   "source": [
    "#### Визуализация весов каждой фичи"
   ]
  },
  {
   "cell_type": "code",
   "execution_count": 12,
   "metadata": {},
   "outputs": [
    {
     "data": {
      "image/png": "[encoded data removed]",
      "text/plain": [
       "<Figure size 1440x432 with 1 Axes>"
      ]
     },
     "metadata": {
      "needs_background": "light"
     },
     "output_type": "display_data"
    }
   ],
   "source": [
    "def plot_feature_importances(importances, X):\n",
    "    indices = np.argsort(importances)[::-1]\n",
    "\n",
    "    plt.figure(figsize=(20, 6))\n",
    "    plt.title(\"Feature importances\", fontsize=16)\n",
    "    plt.bar(range(X.shape[1]), importances[indices] / importances.sum(),\n",
    "            color=\"darkblue\", align=\"center\")\n",
    "    plt.xticks(range(X.shape[1]), X.columns[indices], rotation=90, fontsize=14)\n",
    "    plt.xlim([-1, X.shape[1]])\n",
    "\n",
    "    plt.tight_layout()\n",
    "    plt.savefig('fe.jpg')\n",
    "    plt.show()\n",
    "\n",
    "\n",
    "plot_feature_importances(importances=model.feature_importances_, X=main_dataframe)"
   ]
  },
  {
   "cell_type": "markdown",
   "metadata": {},
   "source": [
    "#### Предсказание и сохранение результата"
   ]
  },
  {
   "cell_type": "code",
   "execution_count": 13,
   "metadata": {},
   "outputs": [
    {
     "name": "stdout",
     "output_type": "stream",
     "text": [
      "      Id          Price\n",
      "0    725  154101.001160\n",
      "1  15856  242878.931795\n",
      "2   5480  209697.439750\n",
      "3  15664  308811.931771\n",
      "4  14275  140510.058169\n",
      "(5000, 2)\n"
     ]
    }
   ],
   "source": [
    "pred_final = model.predict(final_dataframe)\n",
    "\n",
    "preds_final['Price'] = pred_final\n",
    "preds_final.to_csv('predictions.csv', index=False)\n",
    "\n",
    "print(preds_final.head())\n",
    "print(preds_final.shape)"
   ]
  },
  {
   "cell_type": "code",
   "execution_count": null,
   "metadata": {},
   "outputs": [],
   "source": []
  }
 ],
 "metadata": {
  "kernelspec": {
   "display_name": "Python 3",
   "language": "python",
   "name": "python3"
  },
  "language_info": {
   "codemirror_mode": {
    "name": "ipython",
    "version": 3
   },
   "file_extension": ".py",
   "mimetype": "text/x-python",
   "name": "python",
   "nbconvert_exporter": "python",
   "pygments_lexer": "ipython3",
   "version": "3.8.5"
  }
 },
 "nbformat": 4,
 "nbformat_minor": 4
}
